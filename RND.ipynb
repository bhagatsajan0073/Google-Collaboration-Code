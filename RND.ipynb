{
  "nbformat": 4,
  "nbformat_minor": 0,
  "metadata": {
    "colab": {
      "name": "RND.ipynb",
      "version": "0.3.2",
      "provenance": [],
      "collapsed_sections": [],
      "include_colab_link": true
    },
    "kernelspec": {
      "name": "python3",
      "display_name": "Python 3"
    },
    "accelerator": "GPU"
  },
  "cells": [
    {
      "cell_type": "markdown",
      "metadata": {
        "id": "view-in-github",
        "colab_type": "text"
      },
      "source": [
        "[View in Colaboratory](https://colab.research.google.com/github/bhagatsajan0073/Google-Collaboration-Code/blob/master/RND.ipynb)"
      ]
    },
    {
      "metadata": {
        "id": "19XYV4deIPgJ",
        "colab_type": "code",
        "colab": {
          "base_uri": "https://localhost:8080/",
          "height": 277
        },
        "outputId": "d8600924-2f3f-4484-8bd3-e599eade2305"
      },
      "cell_type": "code",
      "source": [
        "!apt-get install -y -qq software-properties-common python-software-properties module-init-tools\n",
        "!add-apt-repository -y ppa:alessandro-strada/ppa 2>&1 > /dev/null\n",
        "!apt-get update -qq 2>&1 > /dev/null\n",
        "!apt-get -y install -qq google-drive-ocamlfuse fuse"
      ],
      "execution_count": 4,
      "outputs": [
        {
          "output_type": "stream",
          "text": [
            "E: Package 'python-software-properties' has no installation candidate\n",
            "Selecting previously unselected package libfuse2:amd64.\n",
            "(Reading database ... 21065 files and directories currently installed.)\n",
            "Preparing to unpack .../libfuse2_2.9.7-1ubuntu1_amd64.deb ...\n",
            "Unpacking libfuse2:amd64 (2.9.7-1ubuntu1) ...\n",
            "Selecting previously unselected package fuse.\n",
            "Preparing to unpack .../fuse_2.9.7-1ubuntu1_amd64.deb ...\n",
            "Unpacking fuse (2.9.7-1ubuntu1) ...\n",
            "Selecting previously unselected package google-drive-ocamlfuse.\n",
            "Preparing to unpack .../google-drive-ocamlfuse_0.7.0-0ubuntu1~ubuntu18.04.1_amd64.deb ...\n",
            "Unpacking google-drive-ocamlfuse (0.7.0-0ubuntu1~ubuntu18.04.1) ...\n",
            "Setting up libfuse2:amd64 (2.9.7-1ubuntu1) ...\n",
            "Processing triggers for libc-bin (2.27-3ubuntu1) ...\n",
            "Setting up fuse (2.9.7-1ubuntu1) ...\n",
            "Setting up google-drive-ocamlfuse (0.7.0-0ubuntu1~ubuntu18.04.1) ...\n"
          ],
          "name": "stdout"
        }
      ]
    },
    {
      "metadata": {
        "id": "0jVhyBLpIzQd",
        "colab_type": "code",
        "colab": {
          "base_uri": "https://localhost:8080/",
          "height": 107
        },
        "outputId": "25855b40-8f48-4a9d-94b8-d47aa5da979b"
      },
      "cell_type": "code",
      "source": [
        "from google.colab import auth\n",
        "auth.authenticate_user()\n",
        "from oauth2client.client import GoogleCredentials\n",
        "creds = GoogleCredentials.get_application_default()\n",
        "import getpass\n",
        "!google-drive-ocamlfuse -headless -id={creds.client_id} -secret={creds.client_secret} < /dev/null 2>&1 | grep URL\n",
        "vcode = getpass.getpass()\n",
        "!echo {vcode} | google-drive-ocamlfuse -headless -id={creds.client_id} -secret={creds.client_secret}"
      ],
      "execution_count": 5,
      "outputs": [
        {
          "output_type": "stream",
          "text": [
            "Please, open the following URL in a web browser: https://accounts.google.com/o/oauth2/auth?client_id=32555940559.apps.googleusercontent.com&redirect_uri=urn%3Aietf%3Awg%3Aoauth%3A2.0%3Aoob&scope=https%3A%2F%2Fwww.googleapis.com%2Fauth%2Fdrive&response_type=code&access_type=offline&approval_prompt=force\n",
            "··········\n",
            "Please, open the following URL in a web browser: https://accounts.google.com/o/oauth2/auth?client_id=32555940559.apps.googleusercontent.com&redirect_uri=urn%3Aietf%3Awg%3Aoauth%3A2.0%3Aoob&scope=https%3A%2F%2Fwww.googleapis.com%2Fauth%2Fdrive&response_type=code&access_type=offline&approval_prompt=force\n",
            "Please enter the verification code: Access token retrieved correctly.\n"
          ],
          "name": "stdout"
        }
      ]
    },
    {
      "metadata": {
        "id": "BCqIWzYGIzcl",
        "colab_type": "code",
        "colab": {}
      },
      "cell_type": "code",
      "source": [
        "!mkdir -p my_drive\n",
        "!google-drive-ocamlfuse my_drive\n"
      ],
      "execution_count": 0,
      "outputs": []
    },
    {
      "metadata": {
        "id": "ijHOKy6WJHR5",
        "colab_type": "code",
        "colab": {
          "base_uri": "https://localhost:8080/",
          "height": 52
        },
        "outputId": "9f5759dc-4883-4ac0-ef6a-2795906b6a1a"
      },
      "cell_type": "code",
      "source": [
        "print ('Files in Drive:')\n",
        "!ls my_drive/deeplearning_dataset/POC/"
      ],
      "execution_count": 1,
      "outputs": [
        {
          "output_type": "stream",
          "text": [
            "Files in Drive:\n",
            "object_classification_data.hdf5  RND.ipynb  saved_models\n"
          ],
          "name": "stdout"
        }
      ]
    },
    {
      "metadata": {
        "id": "u0M4MsYMJHZe",
        "colab_type": "code",
        "colab": {
          "base_uri": "https://localhost:8080/",
          "height": 35
        },
        "outputId": "55856ab7-8963-42a9-b695-8716a8c46019"
      },
      "cell_type": "code",
      "source": [
        "import h5py\n",
        "import numpy as np\n",
        "import pandas as pd\n",
        "import keras as K\n",
        "from sklearn.model_selection import train_test_split"
      ],
      "execution_count": 2,
      "outputs": [
        {
          "output_type": "stream",
          "text": [
            "Using TensorFlow backend.\n"
          ],
          "name": "stderr"
        }
      ]
    },
    {
      "metadata": {
        "id": "RTZRqixfMeAA",
        "colab_type": "code",
        "colab": {}
      },
      "cell_type": "code",
      "source": [
        "drive_path='my_drive/deeplearning_dataset/POC/'"
      ],
      "execution_count": 0,
      "outputs": []
    },
    {
      "metadata": {
        "id": "1ay0mjN1JHdY",
        "colab_type": "code",
        "colab": {}
      },
      "cell_type": "code",
      "source": [
        "file=h5py.File(drive_path+\"/object_classification_data.hdf5\")"
      ],
      "execution_count": 0,
      "outputs": []
    },
    {
      "metadata": {
        "id": "vofkqlxPJHgy",
        "colab_type": "code",
        "colab": {}
      },
      "cell_type": "code",
      "source": [
        "# file['images'][0,:].sum(axis=0)\n",
        "train_x,test_x,train_y,test_y=train_test_split(file['images'][:],file['class'][:],test_size=0.2,random_state=42)\n",
        "valid_x,score_x,valid_y,score_y=train_test_split(test_x,test_y,test_size=0.5,random_state=42)"
      ],
      "execution_count": 0,
      "outputs": []
    },
    {
      "metadata": {
        "id": "aDORejNwNf3w",
        "colab_type": "code",
        "colab": {
          "base_uri": "https://localhost:8080/",
          "height": 69
        },
        "outputId": "bd6e135b-e7e4-41e9-fba7-dd3b549f9bfa"
      },
      "cell_type": "code",
      "source": [
        "print(train_x.shape)\n",
        "print(valid_x.shape)\n",
        "print(score_x.shape)"
      ],
      "execution_count": 6,
      "outputs": [
        {
          "output_type": "stream",
          "text": [
            "(1600, 256, 512)\n",
            "(200, 256, 512)\n",
            "(200, 256, 512)\n"
          ],
          "name": "stdout"
        }
      ]
    },
    {
      "metadata": {
        "id": "7A4k2WDKNf_H",
        "colab_type": "code",
        "colab": {}
      },
      "cell_type": "code",
      "source": [
        "from __future__ import print_function\n",
        "import keras\n",
        "from keras.datasets import cifar100\n",
        "from keras.preprocessing.image import ImageDataGenerator\n",
        "from keras.models import Sequential\n",
        "from keras.layers import Dense, Dropout, Activation, Flatten\n",
        "from keras.layers import Conv2D, MaxPooling2D\n",
        "import os,gc\n",
        "from keras.models import load_model"
      ],
      "execution_count": 0,
      "outputs": []
    },
    {
      "metadata": {
        "id": "qE886WkNNgIT",
        "colab_type": "code",
        "colab": {}
      },
      "cell_type": "code",
      "source": [
        "batch_size = 16\n",
        "num_classes = 5\n",
        "epochs = 1000\n",
        "data_augmentation = True\n",
        "num_predictions = 20\n",
        "save_dir = os.path.join(drive_path, 'saved_models')\n",
        "model_name = 'keras_object_trained_model.h5'"
      ],
      "execution_count": 0,
      "outputs": []
    },
    {
      "metadata": {
        "id": "N7M2E-BtdBxX",
        "colab_type": "code",
        "colab": {}
      },
      "cell_type": "code",
      "source": [
        "# y_train = keras.utils.to_categorical(train_lables, num_classes)\n",
        "# y_test = keras.utils.to_categorical(test_labels, num_classes)\n",
        "y_tr = keras.utils.to_categorical(train_y, num_classes)\n",
        "y_valid = keras.utils.to_categorical(valid_y, num_classes)\n",
        "y_score = keras.utils.to_categorical(score_y, num_classes)"
      ],
      "execution_count": 0,
      "outputs": []
    },
    {
      "metadata": {
        "id": "B-3EFi1vezqH",
        "colab_type": "code",
        "colab": {}
      },
      "cell_type": "code",
      "source": [
        "img_rows, img_cols = 256, 512"
      ],
      "execution_count": 0,
      "outputs": []
    },
    {
      "metadata": {
        "id": "U303oMDydB01",
        "colab_type": "code",
        "colab": {}
      },
      "cell_type": "code",
      "source": [
        "x_train = train_x.reshape(train_x.shape[0], img_rows, img_cols, 1)\n",
        "# x_test = test_x.reshape(test_x.shape[0], img_rows, img_cols, 1)\n",
        "x_valid = valid_x.reshape(valid_x.shape[0], img_rows, img_cols, 1)\n",
        "x_score = score_x.reshape(score_x.shape[0], img_rows, img_cols, 1)\n",
        "input_shape = (img_rows, img_cols, 1)"
      ],
      "execution_count": 0,
      "outputs": []
    },
    {
      "metadata": {
        "id": "wIJRcKb2dB4h",
        "colab_type": "code",
        "colab": {
          "base_uri": "https://localhost:8080/",
          "height": 87
        },
        "outputId": "4e9d235f-f093-4c1c-ed0c-69596b057067"
      },
      "cell_type": "code",
      "source": [
        "print('x_train shape:', x_train.shape)\n",
        "print(x_train.shape[0], 'train samples')\n",
        "print(x_valid.shape[0], 'valid samples')\n",
        "print(x_score.shape[0], 'score samples')\n",
        "# print(x_test.shape[0], 'test samples')"
      ],
      "execution_count": 12,
      "outputs": [
        {
          "output_type": "stream",
          "text": [
            "x_train shape: (1600, 256, 512, 1)\n",
            "1600 train samples\n",
            "200 valid samples\n",
            "200 score samples\n"
          ],
          "name": "stdout"
        }
      ]
    },
    {
      "metadata": {
        "id": "TSgOC-QDkphj",
        "colab_type": "code",
        "colab": {}
      },
      "cell_type": "code",
      "source": [
        "# from numba import cuda\n",
        "# # !pip install numba\n",
        "# # cuda.select_device()\n",
        "# cuda.close()"
      ],
      "execution_count": 0,
      "outputs": []
    },
    {
      "metadata": {
        "id": "IIPuKsIKdCB4",
        "colab_type": "code",
        "colab": {
          "base_uri": "https://localhost:8080/",
          "height": 69
        },
        "outputId": "364c0fb1-c72c-46bb-e00c-aa7a26e068f9"
      },
      "cell_type": "code",
      "source": [
        "model = Sequential()\n",
        "model.add(Conv2D(32, kernel_size=(3, 3),\n",
        "                 activation='relu',\n",
        "                 input_shape=input_shape))\n",
        "model.add(Conv2D(64, (3, 3), activation='relu'))\n",
        "model.add(MaxPooling2D(pool_size=(2, 2)))\n",
        "model.add(Dropout(0.25))\n",
        "model.add(Flatten())\n",
        "model.add(Dense(128, activation='relu'))\n",
        "model.add(Dropout(0.5))\n",
        "model.add(Dense(num_classes, activation='softmax'))\n",
        "\n",
        "model.compile(loss=keras.losses.categorical_crossentropy,\n",
        "              optimizer=keras.optimizers.Adadelta(),\n",
        "              metrics=['accuracy'])\n",
        "\n",
        "# initiate RMSprop optimizer\n",
        "# opt = keras.optimizers.adagrad(lr=0.01, decay=1e-5)\n",
        "\n",
        "# Let's train the model using RMSprop\n",
        "# model.compile(loss='categorical_crossentropy',\n",
        "#               optimizer=opt,\n",
        "#               metrics=['accuracy'])\n",
        "\n",
        "# datagen = ImageDataGenerator(\n",
        "#     featurewise_center=False,  # set input mean to 0 over the dataset\n",
        "#     samplewise_center=False,  # set each sample mean to 0\n",
        "#     featurewise_std_normalization=False,  # divide inputs by std of the dataset\n",
        "#     samplewise_std_normalization=False,  # divide each input by its std\n",
        "#     zca_whitening=False,  # apply ZCA whitening\n",
        "#     rotation_range=0,  # randomly rotate images in the range (degrees, 0 to 180)\n",
        "#     width_shift_range=0.1,  # randomly shift images horizontally (fraction of total width)\n",
        "#     height_shift_range=0.1,  # randomly shift images vertically (fraction of total height)\n",
        "#     horizontal_flip=True,  # randomly flip images\n",
        "#     vertical_flip=False)  # randomly flip images\n",
        "\n",
        "# Compute quantities required for feature-wise normalization\n",
        "# (std, mean, and principal components if ZCA whitening is applied).\n",
        "# datagen.fit(x_train)\n",
        "\n",
        "# Fit the model on the batches generated by datagen.flow().\n",
        "# model.fit_generator(datagen.flow(x_train, y_tr,\n",
        "#                                  batch_size=batch_size),\n",
        "#                     epochs=epochs,\n",
        "#                     validation_data=(x_valid, y_valid),\n",
        "#                     workers=4)\n",
        "\n",
        "model_path = os.path.join(save_dir, model_name)\n",
        "model = load_model(model_path)\n",
        "\n",
        "model.fit(x_train, y_tr,\n",
        "          batch_size=batch_size,\n",
        "          epochs=epochs,\n",
        "          verbose=1,\n",
        "          validation_data=(x_valid, y_valid))\n",
        "\n"
      ],
      "execution_count": 0,
      "outputs": [
        {
          "output_type": "stream",
          "text": [
            "Train on 1600 samples, validate on 200 samples\n",
            "Epoch 1/1000\n",
            "1024/1600 [==================>...........] - ETA: 30s - loss: 0.0052 - acc: 0.9971"
          ],
          "name": "stdout"
        }
      ]
    },
    {
      "metadata": {
        "id": "n_4R-FI_dCFH",
        "colab_type": "code",
        "colab": {
          "base_uri": "https://localhost:8080/",
          "height": 87
        },
        "outputId": "0c5e7f80-93c4-4895-f185-2690d276dc76"
      },
      "cell_type": "code",
      "source": [
        "score = model.evaluate(x_score, y_score, verbose=0)\n",
        "valid_score=model.evaluate(x_valid, y_valid, verbose=0)\n",
        "\n",
        "print('validation loss:', valid_score[0])s\n",
        "print('validation accuracy:', valid_score[1])\n",
        "\n",
        "print('score loss:', score[0])\n",
        "print('score accuracy:', score[1])"
      ],
      "execution_count": 15,
      "outputs": [
        {
          "output_type": "stream",
          "text": [
            "validation loss: 0.1496699813749001\n",
            "validation accuracy: 0.95\n",
            "score loss: 0.4022110386379063\n",
            "score accuracy: 0.94\n"
          ],
          "name": "stdout"
        }
      ]
    },
    {
      "metadata": {
        "id": "2QsTePqhdCIi",
        "colab_type": "code",
        "colab": {
          "base_uri": "https://localhost:8080/",
          "height": 35
        },
        "outputId": "edfbba92-9158-45f3-9f4b-0683e527f99c"
      },
      "cell_type": "code",
      "source": [
        "# score\n",
        "# Save model and weights\n",
        "if not os.path.isdir(save_dir):\n",
        "    os.makedirs(save_dir)\n",
        "model_path = os.path.join(save_dir, model_name)\n",
        "model.save(model_path)\n",
        "print('Saved trained model at %s ' % model_path)"
      ],
      "execution_count": 20,
      "outputs": [
        {
          "output_type": "stream",
          "text": [
            "Saved trained model at my_drive/deeplearning_dataset/POC/saved_models/keras_object_trained_model.h5 \n"
          ],
          "name": "stdout"
        }
      ]
    },
    {
      "metadata": {
        "id": "6xgduGyoeVju",
        "colab_type": "code",
        "colab": {}
      },
      "cell_type": "code",
      "source": [
        "from sklearn.metrics import confusion_matrix\n",
        "pred=model.predict_classes(x_score)"
      ],
      "execution_count": 0,
      "outputs": []
    },
    {
      "metadata": {
        "id": "6X3Aumohe2RX",
        "colab_type": "code",
        "colab": {
          "base_uri": "https://localhost:8080/",
          "height": 104
        },
        "outputId": "db52bfed-c998-42e6-8097-261ff573560b"
      },
      "cell_type": "code",
      "source": [
        "# labels=['Words_400','Motorbikes','Faces','airplanes','BACKGROUND_Google']\n",
        "confusion_matrix(np.argmax(y_score,axis=1),pred)"
      ],
      "execution_count": 34,
      "outputs": [
        {
          "output_type": "execute_result",
          "data": {
            "text/plain": [
              "array([[40,  0,  0,  0,  1],\n",
              "       [ 0, 40,  0,  0,  1],\n",
              "       [ 0,  0, 30,  0,  2],\n",
              "       [ 0,  0,  0, 36,  1],\n",
              "       [ 0,  2,  4,  1, 42]])"
            ]
          },
          "metadata": {
            "tags": []
          },
          "execution_count": 34
        }
      ]
    }
  ]
}